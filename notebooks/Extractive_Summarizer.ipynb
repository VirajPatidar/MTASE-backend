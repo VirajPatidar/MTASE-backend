{
  "nbformat": 4,
  "nbformat_minor": 0,
  "metadata": {
    "colab": {
      "name": "Text_Summarizer.ipynb",
      "provenance": [],
      "collapsed_sections": []
    },
    "kernelspec": {
      "name": "python3",
      "display_name": "Python 3"
    },
    "language_info": {
      "name": "python"
    }
  },
  "cells": [
    {
      "cell_type": "code",
      "source": [
        "import nltk\n",
        "nltk.download('stopwords')\n",
        "nltk.download('punkt')"
      ],
      "metadata": {
        "colab": {
          "base_uri": "https://localhost:8080/"
        },
        "id": "YHOX8GyGqo4n",
        "outputId": "a57a1f5d-022c-4e15-f6b5-44ddd5a612a1"
      },
      "execution_count": null,
      "outputs": [
        {
          "output_type": "stream",
          "name": "stdout",
          "text": [
            "[nltk_data] Downloading package stopwords to /root/nltk_data...\n",
            "[nltk_data]   Package stopwords is already up-to-date!\n",
            "[nltk_data] Downloading package punkt to /root/nltk_data...\n",
            "[nltk_data]   Unzipping tokenizers/punkt.zip.\n"
          ]
        },
        {
          "output_type": "execute_result",
          "data": {
            "text/plain": [
              "True"
            ]
          },
          "metadata": {},
          "execution_count": 11
        }
      ]
    },
    {
      "cell_type": "code",
      "execution_count": null,
      "metadata": {
        "id": "j86BQfsipYXl"
      },
      "outputs": [],
      "source": [
        "# DOCUMENT = \"\"\"\n",
        "# The Witcher 3: Wild Hunt is the third and final installment in the series of games developed by CD Projekt RED featuring the witcher Geralt of Rivia. The game was originally scheduled for release in late 2014, then pushed back to 24 February 2015, and finally released on 19 May 2015. During the first two weeks since release it had sold more than 4 million copies worldwide, more than doubling the total sales of its predecessor, The Witcher 2: Assassins of Kings.\n",
        "# Unlike the previous games, The Witcher 3 is set in a multi-region open world, featuring over 100 hours of content. Several early articles mentioned that the developers planned to have an open world similar to that of Skyrim, but 20% larger. The developers were quick to point out that while there was much to appreciate in Bethesda's open world concept, they were also making an effort not to repeat what they perceived as the flaws in-game. As with earlier games, the consequences of Geralt's actions will impact how the narrative progresses. The game has been built using the new REDengine 3 and was designed with player feedback from fans of previous Witcher games in mind.\n",
        "# \"\"\""
      ]
    },
    {
      "cell_type": "code",
      "source": [
        "# DOCUMENT = \"\"\"\n",
        "# Grand Theft Auto V is a 2013 action-adventure game developed by Rockstar North and published by Rockstar Games. It is the seventh main entry in the Grand Theft Auto series, following 2008's Grand Theft Auto IV, and the fifteenth instalment overall. Set within the fictional state of San Andreas, based on Southern California, the single-player story follows three protagonists—retired bank robber Michael De Santa, street gangster Franklin Clinton, and drug dealer and gunrunner Trevor Philips—and their attempts to commit heists while under pressure from a corrupt government agency and powerful criminals. The open world design lets players freely roam San Andreas' open countryside and the fictional city of Los Santos, based on Los Angeles.\n",
        "\n",
        "# The game is played from either a third-person or first-person perspective, and its world is navigated on foot and by vehicle. Players control the three lead protagonists throughout single-player and switch among them, both during and outside missions. The story is centred on the heist sequences, and many missions involve shooting and driving gameplay. A \"wanted\" system governs the aggression of law enforcement response to players who commit crimes. Grand Theft Auto Online, the game's online multiplayer mode, lets up to 30 players engage in a variety of different cooperative and competitive game modes.\n",
        "\n",
        "# The game's development began around the time of Grand Theft Auto IV's release and was shared between many of Rockstar's studios worldwide. The development team drew influence from many of their previous projects such as Red Dead Redemption and Max Payne 3 and designed the game around three lead protagonists to innovate on the core structure of its predecessors. Much of the development work constituted the open world's creation, and several team members conducted field research around California to capture footage for the design team. The game's soundtrack features an original score composed by a team of producers who collaborated over several years. It was released in September 2013 for the PlayStation 3 and Xbox 360, in November 2014 for the PlayStation 4 and Xbox One, and April 2015 for Microsoft Windows. PlayStation 5 and Xbox Series X/S versions are scheduled for release in March 2022.\n",
        "# \"\"\""
      ],
      "metadata": {
        "id": "yG3OyJcF2_xY"
      },
      "execution_count": null,
      "outputs": []
    },
    {
      "cell_type": "code",
      "source": [
        "# DOCUMENT = \"\"\"\n",
        "# The Elder Scrolls V: Skyrim is an action role-playing video game developed by Bethesda Game Studios \n",
        "# and published by Bethesda Softworks. It is the fifth main installment in The Elder Scrolls series, \n",
        "# following The Elder Scrolls IV: Oblivion.\n",
        "# The game's main story revolves around the player character's quest to defeat Alduin the World-Eater, \n",
        "# a dragon who is prophesied to destroy the world. The game is set 200 years after the events of Oblivion \n",
        "# and takes place in the fictional province of Skyrim. Over the course of the game, the player completes \n",
        "# quests and develops the character by improving skills. The game continues the open-world tradition of \n",
        "# its predecessors by allowing the player to travel anywhere in the game world at any time, and to ignore \n",
        "# or postpone the main storyline indefinitely.\n",
        "# The team opted for a unique and more diverse open world than Oblivion's Imperial Province of Cyrodiil, \n",
        "# which game director and executive producer Todd Howard considered less interesting by comparison. \n",
        "# The game was released to critical acclaim, with reviewers particularly mentioning the character advancement \n",
        "# and setting, and is considered to be one of the greatest video games of all time.\n",
        "\n",
        "\n",
        "# The Elder Scrolls V: Skyrim is an action role-playing game, playable from either a first or \n",
        "# third-person perspective. The player may freely roam over the land of Skyrim which is an open world \n",
        "# environment consisting of wilderness expanses, dungeons, cities, towns, fortresses, and villages. \n",
        "# Players may navigate the game world more quickly by riding horses or by utilizing a fast-travel system \n",
        "# which allows them to warp to previously discovered locations. The game's main quest can be completed or \n",
        "# ignored at the player's preference after the first stage of the quest is finished. However, some quests \n",
        "# rely on the main storyline being at least partially completed. Non-player characters (NPCs) populate the \n",
        "# world and can be interacted with in a number of ways: the player may engage them in conversation, \n",
        "# marry an eligible NPC, kill them or engage in a nonlethal \"brawl\". The player may \n",
        "# choose to join factions which are organized groups of NPCs — for example, the Dark Brotherhood, a band \n",
        "# of assassins. Each of the factions has an associated quest path to progress through. Each city and town \n",
        "# in the game world has jobs that the player can engage in, such as farming.\n",
        "\n",
        "# Players have the option to develop their character. At the beginning of the game, players create \n",
        "# their character by selecting their sex and choosing between one of several races including humans, \n",
        "# orcs, elves, and anthropomorphic cat or lizard-like creatures and then customizing their character's \n",
        "# appearance. Over the course of the game, players improve their character's skills which are numerical \n",
        "# representations of their ability in certain areas. There are eighteen skills divided evenly among the \n",
        "# three schools of combat, magic, and stealth. When players have trained skills enough to meet the \n",
        "# required experience, their character levels up. Health is depleted primarily when the player \n",
        "# takes damage and the loss of all health results in death. Magicka is depleted by the use of spells, \n",
        "# certain poisons and by being struck by lightning-based attacks. Stamina determines the player's \n",
        "# effectiveness in combat and is depleted by sprinting, performing heavy \"power attacks\" \n",
        "# and being struck by frost-based attacks. Skyrim is the first entry in The Elder Scrolls to \n",
        "# include dragons in the game's wilderness. Like other creatures, dragons are generated randomly in \n",
        "# the world and will engage in combat with NPCs, creatures and the player. Some dragons may attack \n",
        "# cities and towns when in their proximity. The player character can absorb the souls of dragons \n",
        "# in order to use powerful spells called \"dragon shouts\" or \"Thu'um\". A regeneration \n",
        "# period limits the player's use of shouts in gameplay.\n",
        "\n",
        "# Skyrim is set around 200 years after the events of The Elder Scrolls IV: Oblivion, although it is \n",
        "# not a direct sequel. The game takes place in Skyrim, a province of the Empire on the continent of \n",
        "# Tamriel, amid a civil war between two factions: the Stormcloaks, led by Ulfric Stormcloak, and the \n",
        "# Imperial Legion, led by General Tullius. The player character is a Dragonborn, a mortal born with \n",
        "# the soul and power of a dragon. Alduin, a large black dragon who returns to the land after being \n",
        "# lost in time, serves as the game's primary antagonist. Alduin is the first dragon created by Akatosh, \n",
        "# one of the series' gods, and is prophesied to destroy and consume the world.\n",
        "# \"\"\""
      ],
      "metadata": {
        "id": "YxG5rvQe3X36"
      },
      "execution_count": null,
      "outputs": []
    },
    {
      "cell_type": "code",
      "source": [
        "# DOCUMENT = \"\"\"\n",
        "# The Omicron-led surge in India — popularly, the Third Wave — saw a rise in new Covid-19 cases beginning end-December for about four weeks. The decline was dramatic, in about three weeks. This phase was marked by less hospitalisations, fewer complications and reduced mortality compared to the Delta-driven second wave. India’s experience replicates that of South Africa. Some of the increase in death counts in recent weeks can be attributed to the “reconciliation” of deaths across states in the light of the Supreme Court’s directive on compensation.\n",
        "\n",
        "# Omicron is the dominant variant currently, globally and India. It is likely to shape the state of the pandemic for some time. The Alpha variant had nine mutations in its S gene and Delta had between nine and 13 mutations. Contrast these with the staggering 50 mutations in Omicron, including 32 mutations in the S gene. A French study found Omicron to be 105 per cent more transmissible than Delta and a Danish study found the variant’s capacity to infect 2-7-3.7 times more than its predecessor. Delta was 100 per cent more transmissible than the parent strain. The WHO had, therefore, warned of a tsunami of Omicron cases overwhelming hospital services despite the virus being less virulent. Indian has, however, weathered this ongoing phase reasonably well.\n",
        "# \"\"\""
      ],
      "metadata": {
        "id": "k267WC4Q39MF"
      },
      "execution_count": null,
      "outputs": []
    },
    {
      "cell_type": "code",
      "source": [
        "DOCUMENT = \"\"\"\n",
        "The Winter Olympics wrapped up without any severe pile-up. But despite the most controlled outflow of information from the Games venue, the enduring legacy of Beijing 2022 will be of political calculation gone awry. Despite re-assertions from China about politics and boycotts not spoiling their Games, the lingering vibe from the postcard perfect venues will still be of a highly politicised sporting event that just couldn’t front and centre the sport\n",
        "China’s inability to address global concerns about tennis star Peng Shuai’s claims of sexual assault against a high-ranking party official, despite allowing access to a French news platform, showed why the hosts couldn’t pull off a Beijing 2008 encore of controlling every frame that the world watched. In fact, the chilling censorship, where not one voice of dissent could rise above the snow-blowers, only underlined that China could and would exert control over even their biggest tennis star, dictate every word she spoke, and control every move she made in the public eye. The silence of other athletes was loud. Beyond Peng, the row over Russian teenage ice skater Kamila Valieva’s uncertain doping status dragged on through the entirety of the Games, overshadowing the event itself. In fact, winter Beijing’s most glaring miss will be how completely overpowering was the stench of politics on sporting action, which might have risen to great heights, but simply couldn’t wrest back the headlines. Tokyo last summer, in comparison, stayed understated as hosts, allowing sport to breathe\n",
        "The Winter Olympics in Beijing will go down as China’s failed attempt to use and misuse sport for political propaganda. Try they did, even boorishly getting a soldier from Galwan to run the torch relay, but this time, China might’ve overplayed its hand. Turning sport into a sideshow, while hard selling their politics, might well have backfired in Beijing’s 14-year-itch.\n",
        "\"\"\""
      ],
      "metadata": {
        "id": "nGXGBLRn4RpW"
      },
      "execution_count": null,
      "outputs": []
    },
    {
      "cell_type": "code",
      "source": [
        "# DOCUMENT = \"\"\"\n",
        "# A German retiree facing sky-high energy bills is turning to a wood-burning stove. The owner of a dry cleaning business in Spain adjusted her employees’ work shifts to cut electric bills and installed solar panels. A mayor in France said he ordered a hiring freeze because rising electrical bills threaten a financial “catastrophe.\n",
        "# Europeans have long paid some of the world’s highest prices for energy, but no one can remember a winter like this one. Lives and livelihoods across the continent are being upended by a series of factors, including pandemic-induced supply shortages and now geopolitical tensions that are driving some energy prices up fivefold\n",
        "# The flow of gas could be interrupted now that the Kremlin has ordered Russian troops into separatist territories of Ukraine. Russia provides more than one-third of Europe’s natural gas, which heats homes, generates electricity and powers factories. Even as politicians and leaders in capitals across Europe are freezing prices, slashing taxes on energy and issuing checks to households hardest hit by the price increases, concerns are growing about what the persistently high prices could mean for people’s jobs and their ability to pay their bills\n",
        "# “People are very upset and very distressed,” said Stefanie Siegert, who counsels consumers in the eastern German state of Saxony who find themselves struggling to pay their gas and power bills\n",
        "# Germany has so far not seen protests over exorbitant energy bills like those that filled streets in Spain last year, or an explosive outcry over inequality on the level of the yellow vest movement that rocked France in 2018. But Siegert, whose agency counseled more than 300 customers in January — three times its monthly average — said she wouldn’t be surprised if the anger directed at the prospect of a vaccine mandate shifted its sights to energy prices\n",
        "# “When you talk with people, you feel their anger,” she said. “It is very depressing.\n",
        "# Charged in one month what he used to pay in a yea\n",
        "# Henry Backhaus, 65, is among tens of thousands of Germans who were dropped by private energy companies that could not afford to buy wholesale electricity and gas at soaring rates. Under German law, the local utility was then required to step in, but it sent him a bill for 747 euros (nearly $850) a month — more than he had been paying for an entire year\n",
        "# “I am a retiree,” he said, looking over the stack of paperwork spread out on his dining room table. “That is more than what I can afford.\n",
        "# But Backhaus, who lives in a three-story house in Saxony, has an alternative that might make him the envy of the millions of other Germans stuck with high energy bills: He has a large wood stove in his living room and, in his basement next to his gas-fired furnace, a furnace that burns coal or wood\n",
        "# The stove and furnace, installed before the house was connected to a gas main, allow him to turn down the dial on his radiators to just 18 degrees Celsius, or 64 Fahrenheit, essentially cutting his gas bill in half\n",
        "# “I still have a reserve of coal briquettes and stacks of dried wood,” he said, poking another log into the stove. “But this is only temporary. It is not a long-term solution.\n",
        "# Most people don’t have the option of burning wood or coal, relying instead on piling on layers of clothing. In Britain, the government’s price cap on energy bills was recently raised 54%, increasing annual charges to 1,971 pounds. That increase will affect 22 million households beginning in April, contributing to broadening worries in Britain about the rising cost of living.\n",
        "# Similar concerns can be found throughout the continent.\n",
        "# \"\"\""
      ],
      "metadata": {
        "id": "9eDEPE-Y7Jup"
      },
      "execution_count": null,
      "outputs": []
    },
    {
      "cell_type": "code",
      "source": [
        "# DOCUMENT = \"\"\"\n",
        "# The series focuses on Monkey D. Luffy, a young man made of rubber, whom, inspired by his childhood idol, the powerful pirate \"Red Haired\" Shanks, sets off on a journey from the East Blue Sea to find the mythical treasure, the One Piece, and proclaim himself the King of the Pirates. In an effort to organize his own crew, the Straw Hat Pirates,[Jp 1] Luffy rescues and befriends a pirate hunter and swordsman named Roronoa Zoro, and they head off in search of the titular treasure. They are joined in their journey by Nami, a money-obsessed thief and navigator; Usopp, a sniper and compulsive liar; and Sanji, a perverted but chivalrous chef. They acquire a ship, the Going Merry,[Jp 2] and engage in confrontations with notorious pirates of the East Blue. As Luffy and his crew set out on their adventures, others join the crew later in the series, including Tony Tony Chopper, an anthropomorphized reindeer doctor; Nico Robin, an archaeologist and former Baroque Works assassin; Franky, a cyborg shipwright; Brook, a skeleton musician and swordsman; and Jimbei, a fish-man helmsman and former member of the Seven Warlords of the Sea. Once the Going Merry becomes damaged beyond repair, the Straw Hat Pirates acquire a new ship, the Thousand Sunny,[Jp 3] built by Franky. Together, they encounter other pirates, bounty hunters, criminal organizations, revolutionaries, secret agents, and soldiers of the corrupt World Government, and various other friends and foes, as they sail the seas in pursuit of their dreams.\n",
        "# \"\"\""
      ],
      "metadata": {
        "id": "J-Li68L47tO8"
      },
      "execution_count": null,
      "outputs": []
    },
    {
      "cell_type": "code",
      "source": [
        "# DOCUMENT = \"\"\"\n",
        "# Ahead of Arcane’s premiere, our premiere review noted that it is, essentially, extremely good YA fiction. This is the perfect way to approach the show. Like so much of YA fiction, Arcane is a story about very hot people wrecking their relationships and their own lives in ways that feel hopelessly inevitable. What makes it so compelling over the course of its now complete first season is that its characters and their passions — for each other, for fulfillment, for revenge — are what everything else stems from. It’s not a show that’s particularly concerned with world-building by way of exposition, the way so much fantasy is. Rather, it shows characters building the world — and breaking it.\n",
        "\n",
        "# Relationships drive everything in Arcane. It’s first and primarily about sisters Vi (Hailee Steinfeld) and Powder (Ella Purnell), who, across a trio of three-episode acts, grow up together as sisters orphaned by war, are separated as young adults, and become bitter, perhaps irrevocable adversaries as they enter adulthood and Powder, under the sway of a cunning slumlord, becomes the mad genius killing machine Jinx. (A lady Joker, if you will.)\n",
        "\n",
        "# Around them, the world changes. While Vi and Powder are denizens of “The Undercity,” they’re also painfully aware of their monied counterparts in Piltover, the “City of Progress” where the show’s other central pair live: Jayce (Kevin Alejandro) and Viktor (Harry Lloyd), two idealistic scientists who find each other in a moment of darkness and together, lead Piltover to even greater heights thanks to their invention of “Hextech” (i.e., magic, but also technology).\n",
        "# Unlike Vi and Powder, Jayce and Viktor are a Have and Have-Not pairing, as Viktor is from the Undercity. Their success doesn’t corrupt either of them necessarily — Arcane’s writers are interested in complicated people, not good or evil people — but it does compromise each of them in painful ways. Viktor wants to help the people being left behind in the Undercity, and Jayce wants to do the most good possible the right way, and both make terrible choices that have dire consequences for their relationship and the world of Arcane.\n",
        "\n",
        "# This is very intro-to-screenwriting stuff, but in the streaming era, TV dramas have taken on a largesse that often translates to narrative lethargy. Events take their time to occur, and can often feel like they’re happening to characters, instead of characters making things happen. In Arcane, characters are constantly making things happen, and what makes it delicious is that it’s never on purpose, and the results are almost never what they want them to be. Arcane’s first act ends with the event that effectively determines and foreshadows everything coming over the next six episodes in ways no one anticipates. Vi tells her little sister Powder to stay home while she and her friends go to rescue their surrogate father Vander. When Powder goes anyway, she decides to help by improvising a magical bomb, cleverly foreshadowing the invention of Hextech, and its eventual pivot from industrial wonder to weapon of war. The bomb kills almost all of their friends, fracturing Powder’s psyche and separating her from her sister. It’s over here, six hours before we ever see it happen. Powder shatters her whole world, and unwittingly with a crude version of the same weapons that will wreak havoc across the entire city around her.\n",
        "# A big reason this all lands so hard is thanks to the tremendous animation from Riot Games and Paris-based Fortiche, which leaves every frame brimming with venues for characterization, as body language, facial expressions, and fight choreography are all painstakingly presented and beautifully realized. It is probably worth noting that while Arcane is an unapologetic video game adaptation, it does not traffic in the typical signifiers of games culture. Most obviously, it’s a story about women with great care taken to make its cast diverse and interesting. But outside of the League of Legends subtitle, the markers of “game adaptation” are spare. It does not indulge in cartoonish and weightless action — it’s fights are all tremendously stylish, well-choreographed, and meaningful. Characters don’t just walk away from fights in Arcane bloody — if they walk away at all, they walk away different.\n",
        "\n",
        "# While I am positive Arcane is constantly bandying about references and Easter Eggs to League of Legends and its many spin-offs, they’re all entirely lost on me. Yet I’m never left feeling adrift because the show is building its own identity: Visually, narratively, and most surprisingly, musically. Imagine Dragons does the show’s theme song, and while this is one thing I have no problem making fun of Arcane for, it says something about the show’s interest in participating in the wider culture, and not merely demanding its attention the way many video game ventures do. Music permeates Arcane, and it’s all of a CW-hip sensibility: tender verses, electropop synths, fight-song choruses, and chest-thumping hip-hop. Artists like BONES UK and Pusha T to get your blood really going, and also to make Arcane feel much less...arcane.\n",
        "\n",
        "# Big-budget video games are like an island; even if there are many people hopping back and forth between them and “mainstream” culture, there’s often little in the way of cultural exchange. Visitors enjoy their time among the denizens of Video Games Island, or perhaps even relocate there, but there is still an otherness to it all; makers provide the Island, the merch, and various ephemera, but aren’t interested in much else. An awareness that culture is being shared en masse at a greater volume elsewhere. As a show made by Riot Games, one of the biggest players on Video Game Island, Arcane may be one of the most significant attempts at bridging the distance, at making games less of an island — bringing the show where everyone watches them, on Netflix. Even if it ultimately isn’t that bridge, it’s still an excellent TV show, which is a wonderful thing to be. \n",
        "# \"\"\""
      ],
      "metadata": {
        "id": "H-Bp3w4u94c_"
      },
      "execution_count": null,
      "outputs": []
    },
    {
      "cell_type": "code",
      "source": [
        "import re\n",
        "\n",
        "DOCUMENT = re.sub(r'\\n|\\r', ' ', DOCUMENT)\n",
        "DOCUMENT = re.sub(r' +', ' ', DOCUMENT)\n",
        "DOCUMENT = DOCUMENT.strip()\n",
        "\n",
        "sentences = nltk.sent_tokenize(DOCUMENT)"
      ],
      "metadata": {
        "id": "sfjxbuZRq5RV"
      },
      "execution_count": null,
      "outputs": []
    },
    {
      "cell_type": "code",
      "source": [
        "import numpy as np\n",
        "\n",
        "stop_words = nltk.corpus.stopwords.words('english')\n",
        "\n",
        "def normalize_document(doc):\n",
        "    # lower case and remove special characters\\whitespaces\n",
        "    doc = re.sub(r'[^a-zA-Z\\s]', '', doc, re.I|re.A)\n",
        "    doc = doc.lower()\n",
        "    doc = doc.strip()\n",
        "    # tokenize document\n",
        "    tokens = nltk.word_tokenize(doc)\n",
        "    # filter stopwords out of document\n",
        "    filtered_tokens = [token for token in tokens if token not in stop_words]\n",
        "    # re-create document from filtered tokens\n",
        "    doc = ' '.join(filtered_tokens)\n",
        "    return doc\n",
        "\n",
        "normalize_corpus = np.vectorize(normalize_document)\n",
        "\n",
        "norm_sentences = normalize_corpus(sentences)\n",
        "norm_sentences[:3]"
      ],
      "metadata": {
        "colab": {
          "base_uri": "https://localhost:8080/"
        },
        "id": "B60BiTQKqL70",
        "outputId": "adc8ca81-4635-4a0d-a12e-9bdb7b761c73"
      },
      "execution_count": null,
      "outputs": [
        {
          "output_type": "execute_result",
          "data": {
            "text/plain": [
              "array(['winter olympics wrapped without severe pileup',\n",
              "       'despite controlled outflow information games venue enduring legacy beijing political calculation gone awry',\n",
              "       'despite reassertions china politics boycotts spoiling games lingering vibe postcard perfect venues still highly politicised sporting event couldnt front centre sport chinas inability address global concerns tennis star peng shuais claims sexual assault highranking party official despite allowing access french news platform showed hosts couldnt pull beijing encore controlling every frame world watched'],\n",
              "      dtype='<U403')"
            ]
          },
          "metadata": {},
          "execution_count": 21
        }
      ]
    },
    {
      "cell_type": "code",
      "source": [
        "from sklearn.feature_extraction.text import TfidfVectorizer\n",
        "import pandas as pd\n",
        "\n",
        "tv = TfidfVectorizer(min_df=0., max_df=1., use_idf=True)\n",
        "dt_matrix = tv.fit_transform(norm_sentences)\n",
        "dt_matrix = dt_matrix.toarray()\n",
        "\n",
        "vocab = tv.get_feature_names()\n",
        "td_matrix = dt_matrix.T\n",
        "print(td_matrix.shape)\n",
        "pd.DataFrame(np.round(td_matrix, 2), index=vocab).head(10)"
      ],
      "metadata": {
        "colab": {
          "base_uri": "https://localhost:8080/",
          "height": 435
        },
        "id": "QgQbdSsr11LP",
        "outputId": "896d5f3b-21c6-4b1d-a9e5-591564cd8143"
      },
      "execution_count": null,
      "outputs": [
        {
          "output_type": "stream",
          "name": "stdout",
          "text": [
            "(153, 10)\n"
          ]
        },
        {
          "output_type": "stream",
          "name": "stderr",
          "text": [
            "/usr/local/lib/python3.7/dist-packages/sklearn/utils/deprecation.py:87: FutureWarning: Function get_feature_names is deprecated; get_feature_names is deprecated in 1.0 and will be removed in 1.2. Please use get_feature_names_out instead.\n",
            "  warnings.warn(msg, category=FutureWarning)\n"
          ]
        },
        {
          "output_type": "execute_result",
          "data": {
            "text/html": [
              "\n",
              "  <div id=\"df-cab92375-d45f-47e7-a33f-5709c5098d17\">\n",
              "    <div class=\"colab-df-container\">\n",
              "      <div>\n",
              "<style scoped>\n",
              "    .dataframe tbody tr th:only-of-type {\n",
              "        vertical-align: middle;\n",
              "    }\n",
              "\n",
              "    .dataframe tbody tr th {\n",
              "        vertical-align: top;\n",
              "    }\n",
              "\n",
              "    .dataframe thead th {\n",
              "        text-align: right;\n",
              "    }\n",
              "</style>\n",
              "<table border=\"1\" class=\"dataframe\">\n",
              "  <thead>\n",
              "    <tr style=\"text-align: right;\">\n",
              "      <th></th>\n",
              "      <th>0</th>\n",
              "      <th>1</th>\n",
              "      <th>2</th>\n",
              "      <th>3</th>\n",
              "      <th>4</th>\n",
              "      <th>5</th>\n",
              "      <th>6</th>\n",
              "      <th>7</th>\n",
              "      <th>8</th>\n",
              "      <th>9</th>\n",
              "    </tr>\n",
              "  </thead>\n",
              "  <tbody>\n",
              "    <tr>\n",
              "      <th>access</th>\n",
              "      <td>0.0</td>\n",
              "      <td>0.00</td>\n",
              "      <td>0.14</td>\n",
              "      <td>0.0</td>\n",
              "      <td>0.00</td>\n",
              "      <td>0.0</td>\n",
              "      <td>0.00</td>\n",
              "      <td>0.00</td>\n",
              "      <td>0.0</td>\n",
              "      <td>0.00</td>\n",
              "    </tr>\n",
              "    <tr>\n",
              "      <th>action</th>\n",
              "      <td>0.0</td>\n",
              "      <td>0.00</td>\n",
              "      <td>0.00</td>\n",
              "      <td>0.0</td>\n",
              "      <td>0.00</td>\n",
              "      <td>0.0</td>\n",
              "      <td>0.24</td>\n",
              "      <td>0.00</td>\n",
              "      <td>0.0</td>\n",
              "      <td>0.00</td>\n",
              "    </tr>\n",
              "    <tr>\n",
              "      <th>address</th>\n",
              "      <td>0.0</td>\n",
              "      <td>0.00</td>\n",
              "      <td>0.14</td>\n",
              "      <td>0.0</td>\n",
              "      <td>0.00</td>\n",
              "      <td>0.0</td>\n",
              "      <td>0.00</td>\n",
              "      <td>0.00</td>\n",
              "      <td>0.0</td>\n",
              "      <td>0.00</td>\n",
              "    </tr>\n",
              "    <tr>\n",
              "      <th>allowing</th>\n",
              "      <td>0.0</td>\n",
              "      <td>0.00</td>\n",
              "      <td>0.12</td>\n",
              "      <td>0.0</td>\n",
              "      <td>0.00</td>\n",
              "      <td>0.0</td>\n",
              "      <td>0.00</td>\n",
              "      <td>0.19</td>\n",
              "      <td>0.0</td>\n",
              "      <td>0.00</td>\n",
              "    </tr>\n",
              "    <tr>\n",
              "      <th>assault</th>\n",
              "      <td>0.0</td>\n",
              "      <td>0.00</td>\n",
              "      <td>0.14</td>\n",
              "      <td>0.0</td>\n",
              "      <td>0.00</td>\n",
              "      <td>0.0</td>\n",
              "      <td>0.00</td>\n",
              "      <td>0.00</td>\n",
              "      <td>0.0</td>\n",
              "      <td>0.00</td>\n",
              "    </tr>\n",
              "    <tr>\n",
              "      <th>athletes</th>\n",
              "      <td>0.0</td>\n",
              "      <td>0.00</td>\n",
              "      <td>0.00</td>\n",
              "      <td>0.0</td>\n",
              "      <td>0.58</td>\n",
              "      <td>0.0</td>\n",
              "      <td>0.00</td>\n",
              "      <td>0.00</td>\n",
              "      <td>0.0</td>\n",
              "      <td>0.00</td>\n",
              "    </tr>\n",
              "    <tr>\n",
              "      <th>attempt</th>\n",
              "      <td>0.0</td>\n",
              "      <td>0.00</td>\n",
              "      <td>0.00</td>\n",
              "      <td>0.0</td>\n",
              "      <td>0.00</td>\n",
              "      <td>0.0</td>\n",
              "      <td>0.00</td>\n",
              "      <td>0.22</td>\n",
              "      <td>0.0</td>\n",
              "      <td>0.00</td>\n",
              "    </tr>\n",
              "    <tr>\n",
              "      <th>awry</th>\n",
              "      <td>0.0</td>\n",
              "      <td>0.29</td>\n",
              "      <td>0.00</td>\n",
              "      <td>0.0</td>\n",
              "      <td>0.00</td>\n",
              "      <td>0.0</td>\n",
              "      <td>0.00</td>\n",
              "      <td>0.00</td>\n",
              "      <td>0.0</td>\n",
              "      <td>0.00</td>\n",
              "    </tr>\n",
              "    <tr>\n",
              "      <th>back</th>\n",
              "      <td>0.0</td>\n",
              "      <td>0.00</td>\n",
              "      <td>0.00</td>\n",
              "      <td>0.0</td>\n",
              "      <td>0.00</td>\n",
              "      <td>0.0</td>\n",
              "      <td>0.24</td>\n",
              "      <td>0.00</td>\n",
              "      <td>0.0</td>\n",
              "      <td>0.00</td>\n",
              "    </tr>\n",
              "    <tr>\n",
              "      <th>backfired</th>\n",
              "      <td>0.0</td>\n",
              "      <td>0.00</td>\n",
              "      <td>0.00</td>\n",
              "      <td>0.0</td>\n",
              "      <td>0.00</td>\n",
              "      <td>0.0</td>\n",
              "      <td>0.00</td>\n",
              "      <td>0.00</td>\n",
              "      <td>0.0</td>\n",
              "      <td>0.32</td>\n",
              "    </tr>\n",
              "  </tbody>\n",
              "</table>\n",
              "</div>\n",
              "      <button class=\"colab-df-convert\" onclick=\"convertToInteractive('df-cab92375-d45f-47e7-a33f-5709c5098d17')\"\n",
              "              title=\"Convert this dataframe to an interactive table.\"\n",
              "              style=\"display:none;\">\n",
              "        \n",
              "  <svg xmlns=\"http://www.w3.org/2000/svg\" height=\"24px\"viewBox=\"0 0 24 24\"\n",
              "       width=\"24px\">\n",
              "    <path d=\"M0 0h24v24H0V0z\" fill=\"none\"/>\n",
              "    <path d=\"M18.56 5.44l.94 2.06.94-2.06 2.06-.94-2.06-.94-.94-2.06-.94 2.06-2.06.94zm-11 1L8.5 8.5l.94-2.06 2.06-.94-2.06-.94L8.5 2.5l-.94 2.06-2.06.94zm10 10l.94 2.06.94-2.06 2.06-.94-2.06-.94-.94-2.06-.94 2.06-2.06.94z\"/><path d=\"M17.41 7.96l-1.37-1.37c-.4-.4-.92-.59-1.43-.59-.52 0-1.04.2-1.43.59L10.3 9.45l-7.72 7.72c-.78.78-.78 2.05 0 2.83L4 21.41c.39.39.9.59 1.41.59.51 0 1.02-.2 1.41-.59l7.78-7.78 2.81-2.81c.8-.78.8-2.07 0-2.86zM5.41 20L4 18.59l7.72-7.72 1.47 1.35L5.41 20z\"/>\n",
              "  </svg>\n",
              "      </button>\n",
              "      \n",
              "  <style>\n",
              "    .colab-df-container {\n",
              "      display:flex;\n",
              "      flex-wrap:wrap;\n",
              "      gap: 12px;\n",
              "    }\n",
              "\n",
              "    .colab-df-convert {\n",
              "      background-color: #E8F0FE;\n",
              "      border: none;\n",
              "      border-radius: 50%;\n",
              "      cursor: pointer;\n",
              "      display: none;\n",
              "      fill: #1967D2;\n",
              "      height: 32px;\n",
              "      padding: 0 0 0 0;\n",
              "      width: 32px;\n",
              "    }\n",
              "\n",
              "    .colab-df-convert:hover {\n",
              "      background-color: #E2EBFA;\n",
              "      box-shadow: 0px 1px 2px rgba(60, 64, 67, 0.3), 0px 1px 3px 1px rgba(60, 64, 67, 0.15);\n",
              "      fill: #174EA6;\n",
              "    }\n",
              "\n",
              "    [theme=dark] .colab-df-convert {\n",
              "      background-color: #3B4455;\n",
              "      fill: #D2E3FC;\n",
              "    }\n",
              "\n",
              "    [theme=dark] .colab-df-convert:hover {\n",
              "      background-color: #434B5C;\n",
              "      box-shadow: 0px 1px 3px 1px rgba(0, 0, 0, 0.15);\n",
              "      filter: drop-shadow(0px 1px 2px rgba(0, 0, 0, 0.3));\n",
              "      fill: #FFFFFF;\n",
              "    }\n",
              "  </style>\n",
              "\n",
              "      <script>\n",
              "        const buttonEl =\n",
              "          document.querySelector('#df-cab92375-d45f-47e7-a33f-5709c5098d17 button.colab-df-convert');\n",
              "        buttonEl.style.display =\n",
              "          google.colab.kernel.accessAllowed ? 'block' : 'none';\n",
              "\n",
              "        async function convertToInteractive(key) {\n",
              "          const element = document.querySelector('#df-cab92375-d45f-47e7-a33f-5709c5098d17');\n",
              "          const dataTable =\n",
              "            await google.colab.kernel.invokeFunction('convertToInteractive',\n",
              "                                                     [key], {});\n",
              "          if (!dataTable) return;\n",
              "\n",
              "          const docLinkHtml = 'Like what you see? Visit the ' +\n",
              "            '<a target=\"_blank\" href=https://colab.research.google.com/notebooks/data_table.ipynb>data table notebook</a>'\n",
              "            + ' to learn more about interactive tables.';\n",
              "          element.innerHTML = '';\n",
              "          dataTable['output_type'] = 'display_data';\n",
              "          await google.colab.output.renderOutput(dataTable, element);\n",
              "          const docLink = document.createElement('div');\n",
              "          docLink.innerHTML = docLinkHtml;\n",
              "          element.appendChild(docLink);\n",
              "        }\n",
              "      </script>\n",
              "    </div>\n",
              "  </div>\n",
              "  "
            ],
            "text/plain": [
              "             0     1     2    3     4    5     6     7    8     9\n",
              "access     0.0  0.00  0.14  0.0  0.00  0.0  0.00  0.00  0.0  0.00\n",
              "action     0.0  0.00  0.00  0.0  0.00  0.0  0.24  0.00  0.0  0.00\n",
              "address    0.0  0.00  0.14  0.0  0.00  0.0  0.00  0.00  0.0  0.00\n",
              "allowing   0.0  0.00  0.12  0.0  0.00  0.0  0.00  0.19  0.0  0.00\n",
              "assault    0.0  0.00  0.14  0.0  0.00  0.0  0.00  0.00  0.0  0.00\n",
              "athletes   0.0  0.00  0.00  0.0  0.58  0.0  0.00  0.00  0.0  0.00\n",
              "attempt    0.0  0.00  0.00  0.0  0.00  0.0  0.00  0.22  0.0  0.00\n",
              "awry       0.0  0.29  0.00  0.0  0.00  0.0  0.00  0.00  0.0  0.00\n",
              "back       0.0  0.00  0.00  0.0  0.00  0.0  0.24  0.00  0.0  0.00\n",
              "backfired  0.0  0.00  0.00  0.0  0.00  0.0  0.00  0.00  0.0  0.32"
            ]
          },
          "metadata": {},
          "execution_count": 22
        }
      ]
    },
    {
      "cell_type": "code",
      "source": [
        "from scipy.sparse.linalg import svds\n",
        "    \n",
        "def low_rank_svd(matrix, singular_count=2):\n",
        "    u, s, vt = svds(matrix, k=singular_count)\n",
        "    return u, s, vt"
      ],
      "metadata": {
        "id": "kJ0VUR1M16Ck"
      },
      "execution_count": null,
      "outputs": []
    },
    {
      "cell_type": "code",
      "source": [
        "num_sentences = 8\n",
        "num_topics = 5\n",
        "\n",
        "u, s, vt = low_rank_svd(td_matrix, singular_count=num_topics)  \n",
        "print(u.shape, s.shape, vt.shape)\n",
        "term_topic_mat, singular_values, topic_document_mat = u, s, vt"
      ],
      "metadata": {
        "colab": {
          "base_uri": "https://localhost:8080/"
        },
        "id": "FVn-MvK917qa",
        "outputId": "e2ef4d9c-f23b-4c76-b9ba-ab9a81d4ea9b"
      },
      "execution_count": null,
      "outputs": [
        {
          "output_type": "stream",
          "name": "stdout",
          "text": [
            "(153, 5) (5,) (5, 10)\n"
          ]
        }
      ]
    },
    {
      "cell_type": "code",
      "source": [
        "# remove singular values below threshold                                         \n",
        "sv_threshold = 0.5\n",
        "min_sigma_value = max(singular_values) * sv_threshold\n",
        "singular_values[singular_values < min_sigma_value] = 0"
      ],
      "metadata": {
        "id": "TyKwt8K019US"
      },
      "execution_count": null,
      "outputs": []
    },
    {
      "cell_type": "code",
      "source": [
        "salience_scores = np.sqrt(np.dot(np.square(singular_values), \n",
        "                                 np.square(topic_document_mat)))\n",
        "salience_scores"
      ],
      "metadata": {
        "colab": {
          "base_uri": "https://localhost:8080/"
        },
        "id": "SY7x6gbN2AdN",
        "outputId": "3427328a-d707-4891-87f6-b2edc345fa0d"
      },
      "execution_count": null,
      "outputs": [
        {
          "output_type": "execute_result",
          "data": {
            "text/plain": [
              "array([0.78825508, 0.6726009 , 0.70535513, 0.73593288, 1.        ,\n",
              "       0.5801346 , 0.73863593, 0.73767896, 0.68779385, 0.74715361])"
            ]
          },
          "metadata": {},
          "execution_count": 26
        }
      ]
    },
    {
      "cell_type": "code",
      "source": [
        "top_sentence_indices = (-salience_scores).argsort()[:num_sentences]\n",
        "top_sentence_indices.sort()"
      ],
      "metadata": {
        "id": "m7ly3r_f2Cda"
      },
      "execution_count": null,
      "outputs": []
    },
    {
      "cell_type": "code",
      "source": [
        "print(\"\\n\".join(np.array(sentences)[top_sentence_indices]))"
      ],
      "metadata": {
        "colab": {
          "base_uri": "https://localhost:8080/"
        },
        "id": "JheeIsuI2D8G",
        "outputId": "d3600ef9-cdda-4aaf-f017-e3ff8546fb80"
      },
      "execution_count": null,
      "outputs": [
        {
          "output_type": "stream",
          "name": "stdout",
          "text": [
            "The Winter Olympics wrapped up without any severe pile-up.\n",
            "Despite re-assertions from China about politics and boycotts not spoiling their Games, the lingering vibe from the postcard perfect venues will still be of a highly politicised sporting event that just couldn’t front and centre the sport China’s inability to address global concerns about tennis star Peng Shuai’s claims of sexual assault against a high-ranking party official, despite allowing access to a French news platform, showed why the hosts couldn’t pull off a Beijing 2008 encore of controlling every frame that the world watched.\n",
            "In fact, the chilling censorship, where not one voice of dissent could rise above the snow-blowers, only underlined that China could and would exert control over even their biggest tennis star, dictate every word she spoke, and control every move she made in the public eye.\n",
            "The silence of other athletes was loud.\n",
            "In fact, winter Beijing’s most glaring miss will be how completely overpowering was the stench of politics on sporting action, which might have risen to great heights, but simply couldn’t wrest back the headlines.\n",
            "Tokyo last summer, in comparison, stayed understated as hosts, allowing sport to breathe The Winter Olympics in Beijing will go down as China’s failed attempt to use and misuse sport for political propaganda.\n",
            "Try they did, even boorishly getting a soldier from Galwan to run the torch relay, but this time, China might’ve overplayed its hand.\n",
            "Turning sport into a sideshow, while hard selling their politics, might well have backfired in Beijing’s 14-year-itch.\n"
          ]
        }
      ]
    }
  ]
}